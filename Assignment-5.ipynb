{
 "cells": [
  {
   "cell_type": "markdown",
   "id": "646717f4-7f81-4f5a-baa8-94d4d727cfa6",
   "metadata": {},
   "source": [
    "Q1, Create a vehicle class with an init method having instance variables as name_of_vehicle, max_speed\n",
    "and average_of_vehicle."
   ]
  },
  {
   "cell_type": "code",
   "execution_count": 59,
   "id": "1c23bdbc-4456-45ee-be57-ac53f76a4c44",
   "metadata": {},
   "outputs": [],
   "source": [
    "class vehicle:\n",
    "    \n",
    "    def __init__(self,name_of_vehicle, max_speed, average_of_vehicle):\n",
    "        self.name_of_vehicle = name_of_vehicle\n",
    "        self.max_speed = max_speed\n",
    "        self.average_of_vehicle = average_of_vehicle"
   ]
  },
  {
   "cell_type": "markdown",
   "id": "3ac2cb9a-5f55-4275-96be-a9be17a8df7c",
   "metadata": {},
   "source": [
    "Q2. Create a child class car from the vehicle class created in Que 1, which will inherit the vehicle class.\n",
    "Create a method named seating_capacity which takes capacity as an argument and returns the name of\n",
    "the vehicle and its seating capacity."
   ]
  },
  {
   "cell_type": "code",
   "execution_count": 60,
   "id": "f96233d5-f4e5-4d40-9ed0-67d69e5c8f0f",
   "metadata": {},
   "outputs": [],
   "source": [
    "class car(vehicle):\n",
    "    def seating_capacity(self, capacity):\n",
    "        return f\"{self.name_of_vehicle} has a seating capacity of {capacity}.\""
   ]
  },
  {
   "cell_type": "code",
   "execution_count": 61,
   "id": "b636dafb-54bc-4e96-9740-17f7bbcbeac3",
   "metadata": {},
   "outputs": [],
   "source": [
    "Car = car(\"Toyota Camry\", 180, 15.5)"
   ]
  },
  {
   "cell_type": "code",
   "execution_count": 62,
   "id": "8d5ba8f0-8c32-4769-abde-9aab81582ecf",
   "metadata": {},
   "outputs": [
    {
     "data": {
      "text/plain": [
       "'Toyota Camry has a seating capacity of 5.'"
      ]
     },
     "execution_count": 62,
     "metadata": {},
     "output_type": "execute_result"
    }
   ],
   "source": [
    "Car.seating_capacity(5)"
   ]
  },
  {
   "cell_type": "markdown",
   "id": "fd90ecb1-7c56-4983-a4a0-3047a891d5a8",
   "metadata": {},
   "source": [
    "Q3. What is multiple inheritance? Write a python code to demonstrate multiple inheritance."
   ]
  },
  {
   "cell_type": "markdown",
   "id": "5e8e42b4-580a-4322-a1c5-9f70b392febd",
   "metadata": {},
   "source": [
    "Ans- Multiple inheritance in object-oriented programming refers to the ability of a subclass (child class) to inherit from more than one parent class. This allows the subclass to inherit and combine attributes and methods from multiple classes."
   ]
  },
  {
   "cell_type": "code",
   "execution_count": 63,
   "id": "e4390c9d-f733-4584-9f5b-6853d890b25e",
   "metadata": {},
   "outputs": [],
   "source": [
    "# Parent class 1\n",
    "class Engine:\n",
    "    def start(self):\n",
    "        print(\"Engine started.\")\n",
    "\n",
    "    def stop(self):\n",
    "        print(\"Engine stopped.\")\n",
    "\n",
    "# Parent class 2\n",
    "class Electric:\n",
    "    def charge(self):\n",
    "        print(\"Electric vehicle charging.\")\n",
    "\n",
    "    def discharge(self):\n",
    "        print(\"Electric vehicle discharging.\")\n",
    "\n",
    "# Child class inheriting from Engine and Electric\n",
    "class HybridCar(Engine, Electric):\n",
    "    def __init__(self, name):\n",
    "        self.name = name\n",
    "\n",
    "    def display_name(self):\n",
    "        print(f\"Hybrid car name: {self.name}\")\n"
   ]
  },
  {
   "cell_type": "code",
   "execution_count": 64,
   "id": "7e96ac00-46bf-4487-9e8e-d7c3a34ebafc",
   "metadata": {},
   "outputs": [
    {
     "name": "stdout",
     "output_type": "stream",
     "text": [
      "Engine started.\n",
      "Electric vehicle charging.\n",
      "Hybrid car name: Toyota Prius\n"
     ]
    }
   ],
   "source": [
    "# Creating an instance of HybridCar\n",
    "my_car = HybridCar(\"Toyota Prius\")\n",
    "\n",
    "my_car.start()     # Method from Engine class\n",
    "my_car.charge()    # Method from Electric class\n",
    "my_car.display_name()  # Method specific to HybridCar"
   ]
  },
  {
   "cell_type": "markdown",
   "id": "2d67a783-02e3-4ec5-a07f-34f05764d3d1",
   "metadata": {},
   "source": [
    "Q4. What are getter and setter in python? Create a class and create a getter and a setter method in this\n",
    "class."
   ]
  },
  {
   "cell_type": "markdown",
   "id": "ae0bde52-d921-407f-8da2-ab3976c35a12",
   "metadata": {},
   "source": [
    "Ans- Getter: Method used to access the value of an attribute from outside the class.\n",
    "\n",
    "Setter: Method used to modify the value of an attribute from outside the class."
   ]
  },
  {
   "cell_type": "code",
   "execution_count": 65,
   "id": "a2772c52-f2be-48c2-851a-bb018cc9bbfc",
   "metadata": {},
   "outputs": [],
   "source": [
    "class Car:\n",
    "    def __init__(self, brand, model):\n",
    "        self._brand = brand  # private attribute\n",
    "        self._model = model  # private attribute\n",
    "\n",
    "    def get_brand(self):\n",
    "        return self._brand\n",
    "\n",
    "    def set_brand(self, brand):\n",
    "        self._brand = brand\n",
    "\n",
    "    def get_model(self):\n",
    "        return self._model\n",
    "\n",
    "    def set_model(self, model):\n",
    "        self._model = model\n"
   ]
  },
  {
   "cell_type": "code",
   "execution_count": 66,
   "id": "17710022-5f25-4715-9409-331f5a8421ea",
   "metadata": {},
   "outputs": [],
   "source": [
    "my_car = Car(\"Toyota\", \"Camry\")"
   ]
  },
  {
   "cell_type": "code",
   "execution_count": 67,
   "id": "ba34070f-38d2-4c66-909f-a3bc7d9184c6",
   "metadata": {},
   "outputs": [
    {
     "data": {
      "text/plain": [
       "'Toyota'"
      ]
     },
     "execution_count": 67,
     "metadata": {},
     "output_type": "execute_result"
    }
   ],
   "source": [
    "my_car.get_brand()  # Accessing brand attribute"
   ]
  },
  {
   "cell_type": "code",
   "execution_count": 68,
   "id": "56f2f61b-4fbe-4884-ad33-d61dbdd87878",
   "metadata": {},
   "outputs": [],
   "source": [
    "my_car.set_brand(\"Honda\")   # Modifying brand attribute"
   ]
  },
  {
   "cell_type": "code",
   "execution_count": 69,
   "id": "59a884bf-4b4d-4e7d-8f68-8f79980adfe6",
   "metadata": {},
   "outputs": [
    {
     "data": {
      "text/plain": [
       "'Honda'"
      ]
     },
     "execution_count": 69,
     "metadata": {},
     "output_type": "execute_result"
    }
   ],
   "source": [
    "my_car.get_brand()  # Accessing Modifying brand attribute"
   ]
  },
  {
   "cell_type": "code",
   "execution_count": 70,
   "id": "ae6fabc4-9411-4165-8a99-3ee271d2b8b6",
   "metadata": {},
   "outputs": [
    {
     "data": {
      "text/plain": [
       "'Camry'"
      ]
     },
     "execution_count": 70,
     "metadata": {},
     "output_type": "execute_result"
    }
   ],
   "source": [
    "my_car.get_model()  # Accessing model attribute"
   ]
  },
  {
   "cell_type": "code",
   "execution_count": 71,
   "id": "60d6b128-320c-4eab-bbbb-48e72d9faf1d",
   "metadata": {},
   "outputs": [],
   "source": [
    "my_car.set_model(\"Corolla\")  # Modifying model attribute"
   ]
  },
  {
   "cell_type": "code",
   "execution_count": 72,
   "id": "e103584a-6506-4263-ba0e-ad1cb7df71c1",
   "metadata": {},
   "outputs": [
    {
     "data": {
      "text/plain": [
       "'Corolla'"
      ]
     },
     "execution_count": 72,
     "metadata": {},
     "output_type": "execute_result"
    }
   ],
   "source": [
    "my_car.get_model()  # Accessing updated model attribute"
   ]
  },
  {
   "cell_type": "markdown",
   "id": "6b236eec-c4d8-47f4-ac41-075953b65416",
   "metadata": {},
   "source": [
    "Q5.What is method overriding in python? Write a python code to demonstrate method overriding."
   ]
  },
  {
   "cell_type": "markdown",
   "id": "7316b9f5-84cb-4860-82fe-3ed631b4a58a",
   "metadata": {},
   "source": [
    "Ans- Method overriding in Python refers to the ability of a subclass to provide a specific implementation of a method that is already defined in its superclass. When a method in the subclass has the same name and signature (parameters) as a method in its superclass, the method in the subclass overrides (replaces) the method in the superclass."
   ]
  },
  {
   "cell_type": "code",
   "execution_count": 73,
   "id": "1602ef3e-62ca-4955-914d-638b344a8e94",
   "metadata": {},
   "outputs": [],
   "source": [
    "class Animal:\n",
    "    def sound(self):\n",
    "        print(\"Animal makes a sound\")\n",
    "\n",
    "class Dog(Animal):\n",
    "    def sound(self):\n",
    "        print(\"Dog barks\")\n",
    "\n",
    "class Cat(Animal):\n",
    "    def sound(self):\n",
    "        print(\"Cat meows\")"
   ]
  },
  {
   "cell_type": "code",
   "execution_count": 74,
   "id": "6696dad3-cc05-499a-aaec-0bdcfa7a132a",
   "metadata": {},
   "outputs": [],
   "source": [
    "animal = Animal()\n",
    "dog = Dog()\n",
    "cat = Cat()"
   ]
  },
  {
   "cell_type": "code",
   "execution_count": 75,
   "id": "56d86ec3-fa5f-4b61-9f2b-9f6c50c409f7",
   "metadata": {},
   "outputs": [
    {
     "name": "stdout",
     "output_type": "stream",
     "text": [
      "Animal makes a sound\n",
      "Dog barks\n",
      "Cat meows\n"
     ]
    }
   ],
   "source": [
    "# Calling overridden methods\n",
    "animal.sound()  # Output: Animal makes a sound\n",
    "dog.sound()     # Output: Dog barks\n",
    "cat.sound()     # Output: Cat meows"
   ]
  }
 ],
 "metadata": {
  "kernelspec": {
   "display_name": "Python 3 (ipykernel)",
   "language": "python",
   "name": "python3"
  },
  "language_info": {
   "codemirror_mode": {
    "name": "ipython",
    "version": 3
   },
   "file_extension": ".py",
   "mimetype": "text/x-python",
   "name": "python",
   "nbconvert_exporter": "python",
   "pygments_lexer": "ipython3",
   "version": "3.10.8"
  }
 },
 "nbformat": 4,
 "nbformat_minor": 5
}
